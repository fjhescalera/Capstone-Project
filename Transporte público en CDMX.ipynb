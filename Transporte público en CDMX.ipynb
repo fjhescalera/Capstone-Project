{
 "cells": [
  {
   "attachments": {},
   "cell_type": "markdown",
   "metadata": {},
   "source": [
    "# Transporte Público en CDMX\n",
    "Este notebook se realiza con la intención de documentar el proceso de análisis de la base de datos de transporte público que comparte el INEGI.\n",
    "Algunos de los datos de esta base incluyen: número de usuarios, kilómetros recorridos, pasajeros que viajaron con descuento, número de rutas, etc.\n",
    "Esto para transporte en todo el país, desde Monterrey hasta Qro y la zona del Valle de México y la información está dividida por mes desde el año 1986\n",
    "hasta Abril de 2023.\n",
    "\n",
    "En este análisis nos centraremos en evaluar los distintos medios con los que se cuenta dentro de la CDMX.\n",
    "## Paquetes\n",
    "Comenzaremos instalando los paquetes necesarios para el análisis:\n",
    "* tidyverse\n",
    "* scales\n",
    "* ggthemes"
   ]
  },
  {
   "cell_type": "code",
   "execution_count": 13,
   "metadata": {
    "vscode": {
     "languageId": "r"
    }
   },
   "outputs": [],
   "source": [
    "library(tidyverse)\n",
    "library(ggthemes)\n",
    "library(extrafont)\n",
    "library(scales)"
   ]
  },
  {
   "attachments": {},
   "cell_type": "markdown",
   "metadata": {},
   "source": [
    "## Carga de datos\n",
    "Posteriormente, cargamos la base de datos. Hay que mencionar que la base incluye diccionarios (tc_entidad y tc_municipio) para saber que ID corresponde a la Entidad y Municipio. Ya que sólo analizaremos lo correspondiente a CDMX (ID=9) y la base de datos no entra a detalle con las delegaciones correspondientes, no necesitaremos estos diccionarios. \n",
    "Sin embargo, en caso de que se quieran analizar diferentes transporte de otros estados sería posible incluir estos diccionarios en la base principal con un LEFT JOIN."
   ]
  },
  {
   "cell_type": "code",
   "execution_count": 14,
   "metadata": {
    "vscode": {
     "languageId": "r"
    }
   },
   "outputs": [],
   "source": [
    "data <- read.csv(\"./DATA/etup_mensual_tr_cifra_1986_2023.csv\")"
   ]
  },
  {
   "attachments": {},
   "cell_type": "markdown",
   "metadata": {},
   "source": [
    "## Exploración\n",
    "Usamos el siguiente código para explorar un poco la base de datos, esto nos muestra las columnas así como las filas que contiene TODA nuestra base:\n",
    "\n",
    "```head(data)```\n",
    "\n",
    "Una vez que estamos más familiarizados podemos filtrar solo los transportes de la CDMX (ID=9) y agrupar las variables por medio de transporte para explorar un poco la información disponible para cada medio de transporte. Podemos observar que una de las variables disponibles para todos los medios de transporte es \"Pasajeros transportados\" por lo que valdría la pena analizar esta variable primero."
   ]
  },
  {
   "cell_type": "code",
   "execution_count": 15,
   "metadata": {
    "vscode": {
     "languageId": "r"
    }
   },
   "outputs": [
    {
     "data": {
      "text/html": [
       "<table class=\"dataframe\">\n",
       "<caption>A grouped_df: 37 × 2</caption>\n",
       "<thead>\n",
       "\t<tr><th scope=col>TRANSPORTE</th><th scope=col>VARIABLE</th></tr>\n",
       "\t<tr><th scope=col>&lt;chr&gt;</th><th scope=col>&lt;chr&gt;</th></tr>\n",
       "</thead>\n",
       "<tbody>\n",
       "\t<tr><td>Red de Transporte de Pasajeros       </td><td>Autobuses en operación de lunes a viernes </td></tr>\n",
       "\t<tr><td>Red de Transporte de Pasajeros       </td><td>Autobuses en operación de sábado a domingo</td></tr>\n",
       "\t<tr><td>Red de Transporte de Pasajeros       </td><td>Kilómetros recorridos                     </td></tr>\n",
       "\t<tr><td>Red de Transporte de Pasajeros       </td><td>Pasajeros transportados                   </td></tr>\n",
       "\t<tr><td>Red de Transporte de Pasajeros       </td><td>Personal ocupado                          </td></tr>\n",
       "\t<tr><td>Red de Transporte de Pasajeros       </td><td>Rutas                                     </td></tr>\n",
       "\t<tr><td>Sistema de Transporte Colectivo Metro</td><td>Energía eléctrica consumida               </td></tr>\n",
       "\t<tr><td>Sistema de Transporte Colectivo Metro</td><td>Kilómetros recorridos                     </td></tr>\n",
       "\t<tr><td>Sistema de Transporte Colectivo Metro</td><td>Longitud de servicio                      </td></tr>\n",
       "\t<tr><td>Sistema de Transporte Colectivo Metro</td><td>Pasajeros transportados                   </td></tr>\n",
       "\t<tr><td>Sistema de Transporte Colectivo Metro</td><td>Trenes en servicio                        </td></tr>\n",
       "\t<tr><td>Tren Ligero                          </td><td>Ingresos por pasaje                       </td></tr>\n",
       "\t<tr><td>Tren Ligero                          </td><td>Kilómetros recorridos                     </td></tr>\n",
       "\t<tr><td>Tren Ligero                          </td><td>Longitud de servicio                      </td></tr>\n",
       "\t<tr><td>Tren Ligero                          </td><td>Pasajeros transportados                   </td></tr>\n",
       "\t<tr><td>Tren Ligero                          </td><td>Unidades en operación                     </td></tr>\n",
       "\t<tr><td>Trolebús                             </td><td>Ingresos por pasaje                       </td></tr>\n",
       "\t<tr><td>Trolebús                             </td><td>Kilómetros recorridos                     </td></tr>\n",
       "\t<tr><td>Trolebús                             </td><td>Lineas en servicio                        </td></tr>\n",
       "\t<tr><td>Trolebús                             </td><td>Longitud de servicio                      </td></tr>\n",
       "\t<tr><td>Trolebús                             </td><td>Pasajeros transportados                   </td></tr>\n",
       "\t<tr><td>Trolebús                             </td><td>Unidades en operación                     </td></tr>\n",
       "\t<tr><td>Metrobús                             </td><td>Autobuses en operación de lunes a viernes </td></tr>\n",
       "\t<tr><td>Metrobús                             </td><td>Autobuses en operación de sábado a domingo</td></tr>\n",
       "\t<tr><td>Metrobús                             </td><td>Kilómetros recorridos                     </td></tr>\n",
       "\t<tr><td>Metrobús                             </td><td>Pasajeros transportados                   </td></tr>\n",
       "\t<tr><td>Metrobús                             </td><td>Pasajeros transportados con boleto pagado </td></tr>\n",
       "\t<tr><td>Metrobús                             </td><td>Pasajeros transportados con cortesía      </td></tr>\n",
       "\t<tr><td>Metrobús                             </td><td>Rutas                                     </td></tr>\n",
       "\t<tr><td>Metrobús                             </td><td>Unidades en existencia                    </td></tr>\n",
       "\t<tr><td>Cablebús                             </td><td>Cabinas en operación de lunes a viernes   </td></tr>\n",
       "\t<tr><td>Cablebús                             </td><td>Cabinas en operación de sábado a domingo  </td></tr>\n",
       "\t<tr><td>Cablebús                             </td><td>Kilómetros recorridos                     </td></tr>\n",
       "\t<tr><td>Cablebús                             </td><td>Pasajeros transportados                   </td></tr>\n",
       "\t<tr><td>Cablebús                             </td><td>Pasajeros transportados con boleto pagado </td></tr>\n",
       "\t<tr><td>Cablebús                             </td><td>Pasajeros transportados con cortesía      </td></tr>\n",
       "\t<tr><td>Cablebús                             </td><td>Rutas                                     </td></tr>\n",
       "</tbody>\n",
       "</table>\n"
      ],
      "text/latex": [
       "A grouped\\_df: 37 × 2\n",
       "\\begin{tabular}{ll}\n",
       " TRANSPORTE & VARIABLE\\\\\n",
       " <chr> & <chr>\\\\\n",
       "\\hline\n",
       "\t Red de Transporte de Pasajeros        & Autobuses en operación de lunes a viernes \\\\\n",
       "\t Red de Transporte de Pasajeros        & Autobuses en operación de sábado a domingo\\\\\n",
       "\t Red de Transporte de Pasajeros        & Kilómetros recorridos                     \\\\\n",
       "\t Red de Transporte de Pasajeros        & Pasajeros transportados                   \\\\\n",
       "\t Red de Transporte de Pasajeros        & Personal ocupado                          \\\\\n",
       "\t Red de Transporte de Pasajeros        & Rutas                                     \\\\\n",
       "\t Sistema de Transporte Colectivo Metro & Energía eléctrica consumida               \\\\\n",
       "\t Sistema de Transporte Colectivo Metro & Kilómetros recorridos                     \\\\\n",
       "\t Sistema de Transporte Colectivo Metro & Longitud de servicio                      \\\\\n",
       "\t Sistema de Transporte Colectivo Metro & Pasajeros transportados                   \\\\\n",
       "\t Sistema de Transporte Colectivo Metro & Trenes en servicio                        \\\\\n",
       "\t Tren Ligero                           & Ingresos por pasaje                       \\\\\n",
       "\t Tren Ligero                           & Kilómetros recorridos                     \\\\\n",
       "\t Tren Ligero                           & Longitud de servicio                      \\\\\n",
       "\t Tren Ligero                           & Pasajeros transportados                   \\\\\n",
       "\t Tren Ligero                           & Unidades en operación                     \\\\\n",
       "\t Trolebús                              & Ingresos por pasaje                       \\\\\n",
       "\t Trolebús                              & Kilómetros recorridos                     \\\\\n",
       "\t Trolebús                              & Lineas en servicio                        \\\\\n",
       "\t Trolebús                              & Longitud de servicio                      \\\\\n",
       "\t Trolebús                              & Pasajeros transportados                   \\\\\n",
       "\t Trolebús                              & Unidades en operación                     \\\\\n",
       "\t Metrobús                              & Autobuses en operación de lunes a viernes \\\\\n",
       "\t Metrobús                              & Autobuses en operación de sábado a domingo\\\\\n",
       "\t Metrobús                              & Kilómetros recorridos                     \\\\\n",
       "\t Metrobús                              & Pasajeros transportados                   \\\\\n",
       "\t Metrobús                              & Pasajeros transportados con boleto pagado \\\\\n",
       "\t Metrobús                              & Pasajeros transportados con cortesía      \\\\\n",
       "\t Metrobús                              & Rutas                                     \\\\\n",
       "\t Metrobús                              & Unidades en existencia                    \\\\\n",
       "\t Cablebús                              & Cabinas en operación de lunes a viernes   \\\\\n",
       "\t Cablebús                              & Cabinas en operación de sábado a domingo  \\\\\n",
       "\t Cablebús                              & Kilómetros recorridos                     \\\\\n",
       "\t Cablebús                              & Pasajeros transportados                   \\\\\n",
       "\t Cablebús                              & Pasajeros transportados con boleto pagado \\\\\n",
       "\t Cablebús                              & Pasajeros transportados con cortesía      \\\\\n",
       "\t Cablebús                              & Rutas                                     \\\\\n",
       "\\end{tabular}\n"
      ],
      "text/markdown": [
       "\n",
       "A grouped_df: 37 × 2\n",
       "\n",
       "| TRANSPORTE &lt;chr&gt; | VARIABLE &lt;chr&gt; |\n",
       "|---|---|\n",
       "| Red de Transporte de Pasajeros        | Autobuses en operación de lunes a viernes  |\n",
       "| Red de Transporte de Pasajeros        | Autobuses en operación de sábado a domingo |\n",
       "| Red de Transporte de Pasajeros        | Kilómetros recorridos                      |\n",
       "| Red de Transporte de Pasajeros        | Pasajeros transportados                    |\n",
       "| Red de Transporte de Pasajeros        | Personal ocupado                           |\n",
       "| Red de Transporte de Pasajeros        | Rutas                                      |\n",
       "| Sistema de Transporte Colectivo Metro | Energía eléctrica consumida                |\n",
       "| Sistema de Transporte Colectivo Metro | Kilómetros recorridos                      |\n",
       "| Sistema de Transporte Colectivo Metro | Longitud de servicio                       |\n",
       "| Sistema de Transporte Colectivo Metro | Pasajeros transportados                    |\n",
       "| Sistema de Transporte Colectivo Metro | Trenes en servicio                         |\n",
       "| Tren Ligero                           | Ingresos por pasaje                        |\n",
       "| Tren Ligero                           | Kilómetros recorridos                      |\n",
       "| Tren Ligero                           | Longitud de servicio                       |\n",
       "| Tren Ligero                           | Pasajeros transportados                    |\n",
       "| Tren Ligero                           | Unidades en operación                      |\n",
       "| Trolebús                              | Ingresos por pasaje                        |\n",
       "| Trolebús                              | Kilómetros recorridos                      |\n",
       "| Trolebús                              | Lineas en servicio                         |\n",
       "| Trolebús                              | Longitud de servicio                       |\n",
       "| Trolebús                              | Pasajeros transportados                    |\n",
       "| Trolebús                              | Unidades en operación                      |\n",
       "| Metrobús                              | Autobuses en operación de lunes a viernes  |\n",
       "| Metrobús                              | Autobuses en operación de sábado a domingo |\n",
       "| Metrobús                              | Kilómetros recorridos                      |\n",
       "| Metrobús                              | Pasajeros transportados                    |\n",
       "| Metrobús                              | Pasajeros transportados con boleto pagado  |\n",
       "| Metrobús                              | Pasajeros transportados con cortesía       |\n",
       "| Metrobús                              | Rutas                                      |\n",
       "| Metrobús                              | Unidades en existencia                     |\n",
       "| Cablebús                              | Cabinas en operación de lunes a viernes    |\n",
       "| Cablebús                              | Cabinas en operación de sábado a domingo   |\n",
       "| Cablebús                              | Kilómetros recorridos                      |\n",
       "| Cablebús                              | Pasajeros transportados                    |\n",
       "| Cablebús                              | Pasajeros transportados con boleto pagado  |\n",
       "| Cablebús                              | Pasajeros transportados con cortesía       |\n",
       "| Cablebús                              | Rutas                                      |\n",
       "\n"
      ],
      "text/plain": [
       "   TRANSPORTE                           \n",
       "1  Red de Transporte de Pasajeros       \n",
       "2  Red de Transporte de Pasajeros       \n",
       "3  Red de Transporte de Pasajeros       \n",
       "4  Red de Transporte de Pasajeros       \n",
       "5  Red de Transporte de Pasajeros       \n",
       "6  Red de Transporte de Pasajeros       \n",
       "7  Sistema de Transporte Colectivo Metro\n",
       "8  Sistema de Transporte Colectivo Metro\n",
       "9  Sistema de Transporte Colectivo Metro\n",
       "10 Sistema de Transporte Colectivo Metro\n",
       "11 Sistema de Transporte Colectivo Metro\n",
       "12 Tren Ligero                          \n",
       "13 Tren Ligero                          \n",
       "14 Tren Ligero                          \n",
       "15 Tren Ligero                          \n",
       "16 Tren Ligero                          \n",
       "17 Trolebús                             \n",
       "18 Trolebús                             \n",
       "19 Trolebús                             \n",
       "20 Trolebús                             \n",
       "21 Trolebús                             \n",
       "22 Trolebús                             \n",
       "23 Metrobús                             \n",
       "24 Metrobús                             \n",
       "25 Metrobús                             \n",
       "26 Metrobús                             \n",
       "27 Metrobús                             \n",
       "28 Metrobús                             \n",
       "29 Metrobús                             \n",
       "30 Metrobús                             \n",
       "31 Cablebús                             \n",
       "32 Cablebús                             \n",
       "33 Cablebús                             \n",
       "34 Cablebús                             \n",
       "35 Cablebús                             \n",
       "36 Cablebús                             \n",
       "37 Cablebús                             \n",
       "   VARIABLE                                  \n",
       "1  Autobuses en operación de lunes a viernes \n",
       "2  Autobuses en operación de sábado a domingo\n",
       "3  Kilómetros recorridos                     \n",
       "4  Pasajeros transportados                   \n",
       "5  Personal ocupado                          \n",
       "6  Rutas                                     \n",
       "7  Energía eléctrica consumida               \n",
       "8  Kilómetros recorridos                     \n",
       "9  Longitud de servicio                      \n",
       "10 Pasajeros transportados                   \n",
       "11 Trenes en servicio                        \n",
       "12 Ingresos por pasaje                       \n",
       "13 Kilómetros recorridos                     \n",
       "14 Longitud de servicio                      \n",
       "15 Pasajeros transportados                   \n",
       "16 Unidades en operación                     \n",
       "17 Ingresos por pasaje                       \n",
       "18 Kilómetros recorridos                     \n",
       "19 Lineas en servicio                        \n",
       "20 Longitud de servicio                      \n",
       "21 Pasajeros transportados                   \n",
       "22 Unidades en operación                     \n",
       "23 Autobuses en operación de lunes a viernes \n",
       "24 Autobuses en operación de sábado a domingo\n",
       "25 Kilómetros recorridos                     \n",
       "26 Pasajeros transportados                   \n",
       "27 Pasajeros transportados con boleto pagado \n",
       "28 Pasajeros transportados con cortesía      \n",
       "29 Rutas                                     \n",
       "30 Unidades en existencia                    \n",
       "31 Cabinas en operación de lunes a viernes   \n",
       "32 Cabinas en operación de sábado a domingo  \n",
       "33 Kilómetros recorridos                     \n",
       "34 Pasajeros transportados                   \n",
       "35 Pasajeros transportados con boleto pagado \n",
       "36 Pasajeros transportados con cortesía      \n",
       "37 Rutas                                     "
      ]
     },
     "metadata": {},
     "output_type": "display_data"
    }
   ],
   "source": [
    "data%>%\n",
    "    filter(ID_ENTIDAD==9)%>%\n",
    "    group_by(TRANSPORTE) %>%\n",
    "    distinct(VARIABLE) %>%\n",
    "    View()"
   ]
  },
  {
   "attachments": {},
   "cell_type": "markdown",
   "metadata": {},
   "source": [
    "## Limpieza de datos\n",
    "Antes de comenzar con la gráfica de pasajeros transportados para cada transporte vamos a hacer algunas limpiezas que nos ayuden a manejar más fácilmente los datos. \n",
    "* Creamos un nuevo dataframe llamado dataCDMX que sólo contenga información correspondiente al ID_ENTIDAD=9\n",
    "* Unimos las columnas correspondientes al año y mes de la observación\n",
    "* Creamos columnas que contengan este año-mes y año pero como una fecha\n",
    "* Finalmente seleccionamos solo las columnas relevantes para nuestro análisis, en este caso el transporte, variable, valor, fecha y año"
   ]
  },
  {
   "cell_type": "code",
   "execution_count": 16,
   "metadata": {
    "vscode": {
     "languageId": "r"
    }
   },
   "outputs": [],
   "source": [
    "dataCDMX <- data %>%\n",
    "    filter(ID_ENTIDAD==9) %>%\n",
    "    unite(ANIOMES,c(ANIO,ID_MES)) %>%\n",
    "    mutate(FECHA=ym(ANIOMES),ANIO=year(FECHA))  %>%\n",
    "    select(TRANSPORTE,VARIABLE,VALOR,FECHA,ANIO)"
   ]
  },
  {
   "attachments": {},
   "cell_type": "markdown",
   "metadata": {},
   "source": [
    "## Gráficas\n",
    "### Pasajeros transportados\n",
    "Comenzaremos con una gráfica que nos muestre la cantidad de pasajeros transportados cada mes durante los últimos 10 años. Filtramos a los últimos 10 años pues algunos medios de transporte llevan poco tiempo en operación, tal como el cablebús que inició operaciones en 2021.\n"
   ]
  },
  {
   "cell_type": "code",
   "execution_count": 17,
   "metadata": {
    "vscode": {
     "languageId": "r"
    }
   },
   "outputs": [
    {
     "data": {
      "image/png": "[encoded data removed]",
      "text/plain": [
       "plot without title"
      ]
     },
     "metadata": {
      "image/png": {
       "height": 420,
       "width": 420
      }
     },
     "output_type": "display_data"
    }
   ],
   "source": [
    "dataCDMX %>%\n",
    "    filter(VARIABLE==\"Pasajeros transportados\",ANIO>2023-10)%>%\n",
    "    ggplot(mapping=aes(x=FECHA,y=VALOR,color=TRANSPORTE))+\n",
    "    geom_line(size=1.2)+\n",
    "    labs(title=\"Uso de medios de transporte en la CDMX\",\n",
    "    caption=\"Fuente: INEGI, Transporte Urbano de Pasajeros 2023\",\n",
    "    y=\"Pasajeros transportados\",color=\"\") +\n",
    "    theme_fivethirtyeight() +\n",
    "    theme(axis.title.y=element_text(size=20),plot.title = element_text(size=30),legend.text = element_text(size=15)) +\n",
    "    scale_color_brewer(palette=\"Set2\") +\n",
    "    scale_y_continuous(breaks=seq(0,200000000,by=20000000),labels=comma) +\n",
    "    scale_x_date(breaks = \"2 years\",labels =date_format(\"20%y\"))"
   ]
  },
  {
   "attachments": {},
   "cell_type": "markdown",
   "metadata": {},
   "source": [
    "Podemos ver este mismo análisis en una gráfica de barras "
   ]
  },
  {
   "cell_type": "code",
   "execution_count": 18,
   "metadata": {
    "vscode": {
     "languageId": "r"
    }
   },
   "outputs": [
    {
     "name": "stderr",
     "output_type": "stream",
     "text": [
      "\u001b[1m\u001b[22m`summarise()` has grouped output by 'TRANSPORTE'. You can override using the\n",
      "`.groups` argument.\n"
     ]
    },
    {
     "data": {
      "image/png": "[encoded data removed]",
      "text/plain": [
       "plot without title"
      ]
     },
     "metadata": {
      "image/png": {
       "height": 420,
       "width": 420
      }
     },
     "output_type": "display_data"
    }
   ],
   "source": [
    "dataCDMX %>% \n",
    "    filter(VARIABLE==\"Pasajeros transportados\",ANIO>2023-10) %>%\n",
    "    group_by(TRANSPORTE,ANIO)%>%\n",
    "    summarize(PROMEDIO_PASAJEROS=mean(VALOR)) %>%\n",
    "    ggplot(mapping =aes(x=ANIO,y=PROMEDIO_PASAJEROS, fill=reorder(TRANSPORTE,PROMEDIO_PASAJEROS,sum))) +\n",
    "    geom_col(position=\"stack\") +\n",
    "    scale_y_continuous(labels=comma,n.breaks=10) +\n",
    "    scale_x_continuous(breaks=c(2014,2016,2018,2020,2022))+\n",
    "    scale_fill_brewer(palette=\"Set3\")"
   ]
  },
  {
   "attachments": {},
   "cell_type": "markdown",
   "metadata": {},
   "source": [
    "### Unidades disponibles"
   ]
  },
  {
   "cell_type": "code",
   "execution_count": 19,
   "metadata": {
    "vscode": {
     "languageId": "r"
    }
   },
   "outputs": [
    {
     "data": {
      "image/png": "[encoded data removed]",
      "text/plain": [
       "plot without title"
      ]
     },
     "metadata": {
      "image/png": {
       "height": 420,
       "width": 420
      }
     },
     "output_type": "display_data"
    }
   ],
   "source": [
    "dataCDMX %>%\n",
    "    filter(VARIABLE==\"Trenes en servicio\"|VARIABLE==\"Unidades en existencia\",ANIO>2023-10)%>%\n",
    "    ggplot(mapping=aes(x=ANIO,y=VALOR,color=TRANSPORTE)) +\n",
    "    geom_line(size=1.5) +\n",
    "    labs(title=\"Disponibilidad de transportes\",\n",
    "    caption=\"Fuente: INEGI, Transporte Urbano de Pasajeros 2023\",\n",
    "    y=\"Unidades en circulación\") +\n",
    "    scale_color_brewer(palette=\"Dark2\")"
   ]
  },
  {
   "attachments": {},
   "cell_type": "markdown",
   "metadata": {},
   "source": [
    "### Rutas de metrobús"
   ]
  },
  {
   "cell_type": "code",
   "execution_count": 20,
   "metadata": {
    "vscode": {
     "languageId": "r"
    }
   },
   "outputs": [
    {
     "name": "stderr",
     "output_type": "stream",
     "text": [
      "\u001b[1m\u001b[22m`geom_smooth()` using method = 'loess' and formula = 'y ~ x'\n"
     ]
    },
    {
     "data": {
      "image/png": "[encoded data removed]",
      "text/plain": [
       "plot without title"
      ]
     },
     "metadata": {
      "image/png": {
       "height": 420,
       "width": 420
      }
     },
     "output_type": "display_data"
    }
   ],
   "source": [
    "dataCDMX %>%\n",
    "    filter(VARIABLE==\"Rutas\",TRANSPORTE==\"Metrobús\",ANIO>2023-15)%>%\n",
    "    ggplot(mapping=aes(x=FECHA,y=VALOR))+\n",
    "    geom_line(size=1.5,colour=\"#ff0000a0\") +\n",
    "    geom_smooth() +\n",
    "    labs(title=\"\",\n",
    "    caption=\"Fuente: INEGI, Transporte Urbano de Pasajeros 2023\",\n",
    "    y=\"Rutas\") +\n",
    "    scale_x_date(breaks=\"2 years\",labels =date_format(\"20%y\"))"
   ]
  },
  {
   "attachments": {},
   "cell_type": "markdown",
   "metadata": {},
   "source": [
    "### KM Recorridos por Metro/Metrobús"
   ]
  },
  {
   "cell_type": "code",
   "execution_count": 21,
   "metadata": {
    "vscode": {
     "languageId": "r"
    }
   },
   "outputs": [
    {
     "name": "stderr",
     "output_type": "stream",
     "text": [
      "\u001b[1m\u001b[22m`summarise()` has grouped output by 'TRANSPORTE'. You can override using the\n",
      "`.groups` argument.\n"
     ]
    },
    {
     "data": {
      "image/png": "[encoded data removed]",
      "text/plain": [
       "plot without title"
      ]
     },
     "metadata": {
      "image/png": {
       "height": 420,
       "width": 420
      }
     },
     "output_type": "display_data"
    }
   ],
   "source": [
    "dataCDMX %>%\n",
    "    filter(VARIABLE==\"Kilómetros recorridos\",TRANSPORTE==\"Metrobús\"|TRANSPORTE==\"Sistema de Transporte Colectivo Metro\",ANIO>2023-10)%>%\n",
    "    group_by(TRANSPORTE,ANIO) %>%\n",
    "    summarize(PROMEDIO_KM=mean(VALOR)) %>%\n",
    "    ggplot(mapping=aes(x=ANIO,y=PROMEDIO_KM,color=TRANSPORTE)) +\n",
    "    geom_line(size=1.5) +\n",
    "    labs(title=\"Promedio KM Recorridos\",\n",
    "    caption=\"Fuente: INEGI, Transporte Urbano de Pasajeros 2023\",\n",
    "    y=\"KM\") +\n",
    "    scale_color_brewer(palette=\"Dark2\") +\n",
    "    scale_y_continuous(labels=comma,n.breaks=10)"
   ]
  }
 ],
 "metadata": {
  "kernelspec": {
   "display_name": "R",
   "language": "R",
   "name": "ir"
  },
  "language_info": {
   "codemirror_mode": "r",
   "file_extension": ".r",
   "mimetype": "text/x-r-source",
   "name": "R",
   "pygments_lexer": "r",
   "version": "4.3.0"
  },
  "orig_nbformat": 4
 },
 "nbformat": 4,
 "nbformat_minor": 2
}
